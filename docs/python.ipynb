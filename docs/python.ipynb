{
 "cells": [
  {
   "attachments": {},
   "cell_type": "markdown",
   "metadata": {},
   "source": [
    "# zip函数\n",
    "\n",
    "zip函数生成一个有元组构成的生成器"
   ]
  },
  {
   "cell_type": "code",
   "execution_count": 8,
   "metadata": {},
   "outputs": [
    {
     "name": "stdout",
     "output_type": "stream",
     "text": [
      "r=[(<class 'str'>, 'AA'), (<class 'int'>, '100'), (<class 'float'>, '32.20')]\n",
      "recond=>['AA', 100, 32.2]\n",
      "\n",
      "      name     shares      price\n",
      "---------- ---------- ---------- \n",
      "        AA        100      32.20\n"
     ]
    }
   ],
   "source": [
    "coltypes = [str, int, float]\n",
    "row = ['AA', '100', '32.20']\n",
    "headers = ['name', 'shares', 'price']\n",
    "r = list(zip(coltypes, row))\n",
    "print(f\"r={r}\")\n",
    "\n",
    "recond = [func(value) for func, value in r]\n",
    "print(f\"recond=>{recond}\", end=\"\\n\\n\")\n",
    "\n",
    "# < 左对齐 > 右对齐 ^ 居中对齐\n",
    "print(f\"{headers[0]:>10s} {headers[1]:>10s} {headers[2]:>10s}\")\n",
    "print(('-' * 10 + ' ') * 3)\n",
    "print(f\"{recond[0]:>10s} {recond[1]:>10d} {recond[2]:10.2f}\")"
   ]
  },
  {
   "attachments": {},
   "cell_type": "markdown",
   "metadata": {},
   "source": [
    "# 具名元组\n",
    "\n",
    "它是一个工厂函数，可以构建一个带有字段名称的元组和一个有名字的类。\n",
    "创建具名函数需要两个参数，一个是类名，另一个是类的各个字段的名称。\n",
    "后者可以是数个字符串组成的可迭代对象，或者是有空格分隔开的字段名组成的字符串。"
   ]
  },
  {
   "cell_type": "code",
   "execution_count": 9,
   "metadata": {},
   "outputs": [
    {
     "name": "stdout",
     "output_type": "stream",
     "text": [
      "tokyo=City(name='Tokyo', country='JP', population=36.933, coordinates=(35.689722, 139.6916667))\n",
      "name=Tokyo\n",
      "fields=('name', 'country', 'population', 'coordinates')\n"
     ]
    }
   ],
   "source": [
    "from collections import namedtuple\n",
    "\n",
    "City = namedtuple(\"City\", \"name country population coordinates\")\n",
    "\n",
    "tokyo = City(name='Tokyo', country='JP', population=36.933, coordinates=(35.689722, 139.6916667))\n",
    "\n",
    "print(f\"tokyo={tokyo}\")\n",
    "print(f\"name={tokyo.name}\")\n",
    "\n",
    "print(f\"fields={City._fields}\")"
   ]
  },
  {
   "attachments": {},
   "cell_type": "markdown",
   "metadata": {},
   "source": [
    "# bisect\n",
    "\n",
    "管理已经排序的序列"
   ]
  },
  {
   "cell_type": "code",
   "execution_count": 3,
   "metadata": {},
   "outputs": [
    {
     "name": "stdout",
     "output_type": "stream",
     "text": [
      "position_left=>14\n",
      "HAYSTACK=>[1, 4, 5, 6, 8, 12, 15, 20, 21, 23, 23, 26, 29, 30, 31]\n",
      "position_left=>13\n",
      "HAYSTACK=>[1, 4, 5, 6, 8, 12, 15, 20, 21, 23, 23, 26, 29, 30, 30, 31]\n",
      "position_left=>12\n",
      "HAYSTACK=>[1, 4, 5, 6, 8, 12, 15, 20, 21, 23, 23, 26, 29, 29, 30, 30, 31]\n",
      "position_left=>9\n",
      "HAYSTACK=>[1, 4, 5, 6, 8, 12, 15, 20, 21, 23, 23, 23, 26, 29, 29, 30, 30, 31]\n",
      "position_left=>9\n",
      "HAYSTACK=>[1, 4, 5, 6, 8, 12, 15, 20, 21, 22, 23, 23, 23, 26, 29, 29, 30, 30, 31]\n",
      "position_left=>5\n",
      "HAYSTACK=>[1, 4, 5, 6, 8, 10, 12, 15, 20, 21, 22, 23, 23, 23, 26, 29, 29, 30, 30, 31]\n",
      "position_left=>4\n",
      "HAYSTACK=>[1, 4, 5, 6, 8, 8, 10, 12, 15, 20, 21, 22, 23, 23, 23, 26, 29, 29, 30, 30, 31]\n",
      "position_left=>2\n",
      "HAYSTACK=>[1, 4, 5, 5, 6, 8, 8, 10, 12, 15, 20, 21, 22, 23, 23, 23, 26, 29, 29, 30, 30, 31]\n",
      "position_left=>1\n",
      "HAYSTACK=>[1, 2, 4, 5, 5, 6, 8, 8, 10, 12, 15, 20, 21, 22, 23, 23, 23, 26, 29, 29, 30, 30, 31]\n",
      "position_left=>0\n",
      "HAYSTACK=>[1, 1, 2, 4, 5, 5, 6, 8, 8, 10, 12, 15, 20, 21, 22, 23, 23, 23, 26, 29, 29, 30, 30, 31]\n",
      "position_left=>0\n",
      "HAYSTACK=>[0, 1, 1, 2, 4, 5, 5, 6, 8, 8, 10, 12, 15, 20, 21, 22, 23, 23, 23, 26, 29, 29, 30, 30, 31]\n"
     ]
    }
   ],
   "source": [
    "import bisect\n",
    "\n",
    "HAYSTACK = [1, 4, 5, 6, 8, 12, 15, 20, 21, 23, 23, 26, 29, 30]\n",
    "NEEDLES = [0, 1, 2, 5, 8, 10, 22, 23, 29, 30, 31]\n",
    "\n",
    "needles = reversed(NEEDLES)\n",
    "for needle in needles:\n",
    "    position_left = bisect.bisect_left(HAYSTACK, needle) # needles 在HAYSTACK应该出现的位置\n",
    "    HAYSTACK.insert(position_left, needle) # 插入\n",
    "    print(f\"position_left=>{position_left}\")\n",
    "    print(f\"HAYSTACK=>{HAYSTACK}\")\n",
    "    "
   ]
  },
  {
   "attachments": {},
   "cell_type": "markdown",
   "metadata": {},
   "source": [
    "# 设计模式"
   ]
  },
  {
   "attachments": {},
   "cell_type": "markdown",
   "metadata": {},
   "source": [
    "```{note}\n",
    "单例模式\n",
    "```"
   ]
  },
  {
   "cell_type": "code",
   "execution_count": 9,
   "metadata": {},
   "outputs": [
    {
     "name": "stdout",
     "output_type": "stream",
     "text": [
      "a=<__main__.MyTest object at 0x000001866FB65C88>, b=<__main__.MyTest object at 0x000001866FB65C88>\n",
      "id: a=1676911467656, b=1676911467656\n",
      "class_val: a=22, b=22\n",
      "class_val: a=33, b=33\n",
      "val: a=1, b=1\n",
      "a=<__main__.A object at 0x000001866FA75A98>, b=<__main__.A object at 0x000001866FA75A98>\n",
      "id: a=1676910484120, b=1676910484120\n",
      "val: a=1, b=1\n"
     ]
    }
   ],
   "source": [
    "# __new__实现\n",
    "\n",
    "class SingleT:\n",
    "    \n",
    "    def __new__(cls, *args, **kwargs):\n",
    "        if not hasattr(cls, '_instance'):\n",
    "            cls._instance = super().__new__(cls)\n",
    "        return cls._instance\n",
    "    \n",
    "class MyTest(SingleT):\n",
    "    \n",
    "    class_val = 22\n",
    "    __slots__ = [\"val\"]\n",
    "    \n",
    "    def __init__(self, val) -> None:\n",
    "        self.val = val\n",
    "    \n",
    "\n",
    "b = MyTest(2)\n",
    "a = MyTest(1)\n",
    "\n",
    "print(f\"a={a}, b={b}\")\n",
    "print(f\"id: a={id(a)}, b={id(b)}\")\n",
    "print(f\"class_val: a={a.class_val}, b={b.class_val}\")\n",
    "a.class_val = 33\n",
    "print(f\"class_val: a={a.class_val}, b={b.class_val}\")\n",
    "print(f\"val: a={a.val}, b={b.val}\")\n",
    "\n",
    "# 装饰器\n",
    "# 给类定义一个装饰器函数，在装饰器函数中的外层变量定义一个字典，里面存放这个类的实例。当第一次创建时，就将这个实例保存到这个字典中\n",
    "from functools import wraps\n",
    "\n",
    "def singleton(cls):\n",
    "    _instance = {}\n",
    "    \n",
    "    @wraps(cls)\n",
    "    def _sigleton(*args, **kwargs):\n",
    "        if cls not in _instance:\n",
    "            _instance[cls] = cls(*args, **kwargs)\n",
    "        return _instance[cls]\n",
    "    return _sigleton\n",
    "\n",
    "@singleton\n",
    "class A:\n",
    "    __slots__ = [\"val\"]\n",
    "    def __init__(self, val) -> None:\n",
    "        self.val = val\n",
    "        \n",
    "a = A(1)\n",
    "b = A(2)\n",
    "print(f\"a={a}, b={b}\")\n",
    "print(f\"id: a={id(a)}, b={id(b)}\")\n",
    "print(f\"val: a={a.val}, b={b.val}\")"
   ]
  },
  {
   "attachments": {},
   "cell_type": "markdown",
   "metadata": {},
   "source": [
    "```{note}\n",
    "Abstract Factory(抽象工厂模式)\n",
    "```\n",
    "对特定的工厂使用通用函数\n"
   ]
  },
  {
   "cell_type": "code",
   "execution_count": 11,
   "metadata": {},
   "outputs": [
    {
     "name": "stdout",
     "output_type": "stream",
     "text": [
      "product_a=ConcreteProductA1().interface_a\n",
      "product_a=ConcreteProductA2().interface_a\n",
      "product_a=ConcreteProductA3().interface_a\n"
     ]
    }
   ],
   "source": [
    "from abc import ABCMeta, abstractmethod\n",
    "\n",
    "class AbstractFactory(metaclass=ABCMeta):\n",
    "    \"\"\"为创建抽象产品的操作声明接口对象。\n",
    "    \"\"\"\n",
    "    \n",
    "    @abstractmethod\n",
    "    def create_product_a(self):\n",
    "        pass\n",
    "    \n",
    "\n",
    "class ConcreateFactory1(AbstractFactory):\n",
    "    \"\"\"实现创建具体产品对象的操作。\n",
    "    \"\"\"\n",
    "    \n",
    "    def create_product_a(self):\n",
    "        return ConcreteProductA1()\n",
    "    \n",
    "    \n",
    "class ConcreateFactory2(AbstractFactory):\n",
    "    \"\"\"实现创建具体产品对象的操作。\n",
    "    \"\"\"\n",
    "    \n",
    "    def create_product_a(self):\n",
    "        return ConcreteProductA2()\n",
    "    \n",
    "    \n",
    "class ConcreateFactory3(AbstractFactory):\n",
    "    \"\"\"实现创建具体产品对象的操作。\n",
    "    \"\"\"\n",
    "    \n",
    "    def create_product_a(self):\n",
    "        return ConcreteProductA3()\n",
    "    \n",
    "    \n",
    "class ConcreteProductA1():\n",
    "    \n",
    "    def interface_a(self):\n",
    "        return \"ConcreteProductA1().interface_a\"\n",
    "    \n",
    "class ConcreteProductA2():\n",
    "    \n",
    "    def interface_a(self):\n",
    "        return \"ConcreteProductA2().interface_a\"\n",
    "    \n",
    "class ConcreteProductA3():\n",
    "    \n",
    "    def interface_a(self):\n",
    "        return \"ConcreteProductA3().interface_a\"\n",
    "\n",
    "def main():\n",
    "    factorys = [ConcreteProductA1(), ConcreteProductA2(), ConcreteProductA3()]\n",
    "    for factory in factorys:\n",
    "        product_a = factory.interface_a()\n",
    "        print(f\"product_a={product_a}\") \n",
    "\n",
    "main()"
   ]
  },
  {
   "attachments": {},
   "cell_type": "markdown",
   "metadata": {},
   "source": [
    "\n",
    "```{note}\n",
    "Builder  Patterns(构建者模式)\n",
    "```\n",
    "\n",
    "将复杂对象的构造与其表示(输出)分离，以便相同的构造过程可以创建不同的表示。\n",
    "\n",
    "client --->  director ---> builder\n",
    "[参考](https://blog.csdn.net/Htojk/article/details/129933920)"
   ]
  },
  {
   "cell_type": "code",
   "execution_count": 2,
   "metadata": {},
   "outputs": [
    {
     "name": "stdout",
     "output_type": "stream",
     "text": [
      "_build_part_a\n",
      "_build_part_b\n",
      "_build_part_c\n"
     ]
    },
    {
     "ename": "",
     "evalue": "",
     "output_type": "error",
     "traceback": [
      "\u001b[1;31m在当前单元格或上一个单元格中执行代码时 Kernel 崩溃。请查看单元格中的代码，以确定故障的可能原因。有关详细信息，请单击 <a href='https://aka.ms/vscodeJupyterKernelCrash'>此处</a>。有关更多详细信息，请查看 Jupyter <a href='command:jupyter.viewOutput'>log</a>。"
     ]
    }
   ],
   "source": [
    "from abc import ABCMeta, abstractmethod\n",
    "\n",
    "class Director:\n",
    "    \"\"\"使用 Builder 接口 构造对象\n",
    "    \"\"\"\n",
    "\n",
    "    def __init__(self) -> None:\n",
    "        self._builder = None\n",
    "    \n",
    "    def construct(self, builder):\n",
    "        self._builder = builder\n",
    "        self._builder._build_part_a()\n",
    "        self._builder._build_part_b()\n",
    "        self._builder._build_part_c()\n",
    "  \n",
    "        \n",
    "class Builder(metaclass=ABCMeta):\n",
    "    \"\"\"指定用于创建产品部件的抽象接口对象\n",
    "    \"\"\"\n",
    "    \n",
    "    def __init__(self) -> None:\n",
    "        self.product = Product()\n",
    "    \n",
    "    @abstractmethod\n",
    "    def _build_part_a(self):\n",
    "        pass\n",
    "    \n",
    "    \n",
    "    @abstractmethod\n",
    "    def _build_part_b(self):\n",
    "        pass\n",
    "    \n",
    "    \n",
    "    @abstractmethod\n",
    "    def _build_part_c(self):\n",
    "        pass\n",
    "    \n",
    "    \n",
    "class ConcreteBuilderA(Builder):\n",
    "    \"\"\"指定用于创建产品部件的具体接口对象\n",
    "    \"\"\"\n",
    "    \n",
    "    def _build_part_a(self):\n",
    "        print(\"_build_part_a\")\n",
    "\n",
    "    def _build_part_b(self):\n",
    "        print(\"_build_part_b\")\n",
    "\n",
    "    def _build_part_c(self):\n",
    "        print(\"_build_part_c\")\n",
    "        \n",
    "\n",
    "class Product:\n",
    "    \"\"\"具体需要生成的类对象\n",
    "    \"\"\"\n",
    "    pass\n",
    "\n",
    "\n",
    "def main():\n",
    "    concrete_builder = ConcreteBuilderA()\n",
    "    director = Director()\n",
    "    director.construct(concrete_builder)\n",
    "    \n",
    "main()"
   ]
  }
 ],
 "metadata": {
  "kernelspec": {
   "display_name": "base",
   "language": "python",
   "name": "python3"
  },
  "language_info": {
   "codemirror_mode": {
    "name": "ipython",
    "version": 3
   },
   "file_extension": ".py",
   "mimetype": "text/x-python",
   "name": "python",
   "nbconvert_exporter": "python",
   "pygments_lexer": "ipython3",
   "version": "3.7.1"
  },
  "orig_nbformat": 4,
  "vscode": {
   "interpreter": {
    "hash": "e8b7f4751fc2270ee62cb32c99c9e281d149184f319ad8a1ad860173c489bfbf"
   }
  }
 },
 "nbformat": 4,
 "nbformat_minor": 2
}
